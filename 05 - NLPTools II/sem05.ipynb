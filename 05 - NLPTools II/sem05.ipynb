{
 "cells": [
  {
   "cell_type": "markdown",
   "id": "8f3a8eb5-b784-4978-8397-a8453ed71236",
   "metadata": {},
   "source": [
    "#### Задача 1. \n",
    "\n",
    "Возьмите любой достаточно длинный новостной текст, извлеките из него все именованные сущности и нормализуйте их."
   ]
  },
  {
   "cell_type": "code",
   "execution_count": null,
   "id": "c838f03a-7629-498f-8a3f-b85cc6f06baa",
   "metadata": {},
   "outputs": [],
   "source": [
    "# your code here"
   ]
  },
  {
   "cell_type": "markdown",
   "id": "bb566c07-a3ae-41eb-bf18-d369449c9f7c",
   "metadata": {},
   "source": [
    "#### Задача 2. \n",
    "\n",
    "Постройте дерево зависимостей для одного и того же предложения в natasha и spacy или corpy (для последнего придется вручную записать файл .conll и отправить его содержимое в арборатор, например). Сравните, что вам больше нравится."
   ]
  },
  {
   "cell_type": "code",
   "execution_count": null,
   "id": "ea9ae7bf-25fb-4296-a590-f26e1e2b3a58",
   "metadata": {},
   "outputs": [],
   "source": [
    "# your code here"
   ]
  },
  {
   "cell_type": "markdown",
   "id": "d1f426bf-3712-45d2-bdab-8c193e79d024",
   "metadata": {},
   "source": [
    "#### Задача 3. \n",
    "\n",
    "Возьмите пару достаточно сложных (с частеречной омонимией, например) предложений на любом языке и сделайте их полный морфосинтаксический разбор с помощью хотя бы двух любых известных вам (и работающих для этого языка) инструментов. Если эти инструменты делают разбор в одном формате (например, UD), выведите автоматически разницу в разборах."
   ]
  },
  {
   "cell_type": "code",
   "execution_count": null,
   "id": "801583c6-8e68-4416-8a48-ad0010e3f6df",
   "metadata": {},
   "outputs": [],
   "source": [
    "# your code here"
   ]
  }
 ],
 "metadata": {
  "kernelspec": {
   "display_name": "Python 3 (ipykernel)",
   "language": "python",
   "name": "python3"
  },
  "language_info": {
   "codemirror_mode": {
    "name": "ipython",
    "version": 3
   },
   "file_extension": ".py",
   "mimetype": "text/x-python",
   "name": "python",
   "nbconvert_exporter": "python",
   "pygments_lexer": "ipython3",
   "version": "3.11.5"
  }
 },
 "nbformat": 4,
 "nbformat_minor": 5
}
